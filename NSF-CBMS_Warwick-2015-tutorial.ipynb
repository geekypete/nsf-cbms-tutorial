{
 "cells": [
  {
   "cell_type": "markdown",
   "metadata": {},
   "source": [
    "### Load necessary libraries, if not installed then install."
   ]
  },
  {
   "cell_type": "code",
   "execution_count": 1,
   "metadata": {},
   "outputs": [
    {
     "name": "stderr",
     "output_type": "stream",
     "text": [
      "Loading required package: foreach\n",
      "Loading required package: iterators\n",
      "Loading required package: parallel\n",
      "Bioconductor version 3.9 (BiocManager 1.30.4), R 3.6.0 (2019-04-26)\n",
      "Installing package(s) 'EBImage'\n",
      "installation path not writeable, unable to update packages: cluster, nlme\n",
      "Update old packages: 'repr'\n"
     ]
    }
   ],
   "source": [
    "# Clear environment\n",
    "rm(list=ls())\n",
    "\n",
    "# Set repository mirror\n",
    "r <- getOption(\"repos\")\n",
    "r[\"CRAN\"] <- \"https://cran.cnr.berkeley.edu/\"\n",
    "options(repos = r)\n",
    "rm(r)\n",
    "\n",
    "# Load helper functions\n",
    "source('./helper_functions.R')\n",
    "\n",
    "# Install and load packages\n",
    "use_package('bmp')\n",
    "use_package('TDA')\n",
    "use_package('doParallel')\n",
    "use_package('doMC')\n",
    "use_package('BiocManager')\n",
    "use_package('ranger')\n",
    "use_package('pROC')\n",
    "BiocManager::install(\"EBImage\")\n",
    "library(\"EBImage\")"
   ]
  },
  {
   "cell_type": "markdown",
   "metadata": {},
   "source": [
    "### Download GlaS@MICCAI'2015: Gland Segmentation Challenge Contest Dataset"
   ]
  },
  {
   "cell_type": "code",
   "execution_count": 7,
   "metadata": {},
   "outputs": [],
   "source": [
    "download.file('https://warwick.ac.uk/fac/sci/dcs/research/tia/glascontest/download/warwick_qu_dataset_released_2016_07_08.zip', './warwick.zip')\n",
    "unzip('warwick.zip')"
   ]
  },
  {
   "cell_type": "markdown",
   "metadata": {},
   "source": [
    "### Extract image labels and load images"
   ]
  },
  {
   "cell_type": "code",
   "execution_count": 3,
   "metadata": {},
   "outputs": [],
   "source": [
    "dir_list <- list.dirs(path = \".\", full.names = TRUE, recursive = TRUE)\n",
    "img_path <- dir_list[length(dir_list)]\n",
    "files <- list.files(img_path,pattern = \"\\\\.bmp$\")\n",
    "meta <- tools::file_path_sans_ext(files)\n",
    "annotate <- read.csv(paste(img_path,'/Grade.csv',sep=''))\n",
    "ann <- data.frame(annotate)\n",
    "ann$rank <- ifelse(ann$grade..GlaS.== ' benign', 0, 1) \n",
    "img_files <- files[which(!grepl('ann', files))]\n"
   ]
  },
  {
   "cell_type": "markdown",
   "metadata": {},
   "source": [
    "### Compute persistence diagram and corresponding persistence intensity function in parallel"
   ]
  },
  {
   "cell_type": "code",
   "execution_count": 29,
   "metadata": {},
   "outputs": [],
   "source": [
    "# Intitiate parallel environment\n",
    "no_cores <- detectCores()\n",
    "cl <- makeCluster(no_cores)\n",
    "registerDoParallel(cl)\n",
    "\n",
    "#Compute persistent homology and persistence intensity functions\n",
    "pif_diag <- foreach(i=img_files, .packages=c('TDA', 'bmp', 'EBImage')) %dopar%{\n",
    "        # Set filepath\n",
    "        image_filepath <- paste(img_path,\"/\", i, sep = \"\")\n",
    "        img_mat <- read.bmp(image_filepath)\n",
    "        img_mat <- -1.2126*img_mat[,,1] + 0.7152*img_mat[,,2] + 0.0722*img_mat[,,3]\n",
    "        # Downsample image by 50% to increase computational efficiency\n",
    "        img_mat <- resize(img_mat, dim(img_mat)[1]/4)\n",
    "        img_mat <- apply(img_mat, MARGIN = 2, FUN = function(X) (X - min(X))/diff(range(X)))\n",
    "        #img_mat <- as.matrix(img_mat)\n",
    "        # Generate persistence diagram\n",
    "        tmp_diag <- gridDiag(FUNvalues=img_mat , sublevel=TRUE, printProgress=FALSE )\n",
    "        # Compute persistence intensity function on persistence diagram\n",
    "        tmp_pif <- pif(tmp_diag,n=10)\n",
    "        # Return filename, 0-dimensional (connected comp), and 1 dimensional (cycles) persistence intensity function\n",
    "        list(i, tmp_pif$dim_0, tmp_pif$dim_1)\n",
    "        }\n",
    "stopCluster(cl)"
   ]
  },
  {
   "cell_type": "markdown",
   "metadata": {},
   "source": [
    "### Create dataframe of features"
   ]
  },
  {
   "cell_type": "code",
   "execution_count": 31,
   "metadata": {},
   "outputs": [],
   "source": [
    "pif_list_0 <- lapply(pif_diag, function(x) x[[2]])\n",
    "pif_upper_0 <- lapply(pif_list_0, function(x) x[upper.tri(x, diag=TRUE)])\n",
    "pif_flat_0 <- lapply(pif_upper_0, function(x) as.vector(x))\n",
    "pif_flat_0 <- matrix(unlist(pif_flat_0), ncol = length(pif_flat_0[[1]]), byrow = TRUE)\n",
    "\n",
    "pif_list_1 <- lapply(pif_diag, function(x) x[[3]])\n",
    "pif_upper_1 <- lapply(pif_list_1, function(x) x[upper.tri(x, diag=TRUE)])\n",
    "pif_flat_1 <- lapply(pif_upper_1, function(x) as.vector(x))\n",
    "pif_flat_1 <- matrix(unlist(pif_flat_1), ncol = length(pif_flat_1[[1]]), byrow = TRUE)                     "
   ]
  },
  {
   "cell_type": "markdown",
   "metadata": {},
   "source": [
    "### Compute random forest"
   ]
  },
  {
   "cell_type": "code",
   "execution_count": null,
   "metadata": {},
   "outputs": [
    {
     "name": "stderr",
     "output_type": "stream",
     "text": [
      "Installing package into ‘/home/geekypete/R/x86_64-pc-linux-gnu-library/3.6’\n",
      "(as ‘lib’ is unspecified)\n",
      "also installing the dependencies ‘sys’, ‘ps’, ‘askpass’, ‘processx’, ‘openssl’, ‘prettyunits’, ‘xopen’, ‘ini’, ‘kernlab’, ‘mclust’, ‘multicool’, ‘mvtnorm’, ‘callr’, ‘git2r’, ‘httr’, ‘memoise’, ‘pkgbuild’, ‘pkgload’, ‘rcmdcheck’, ‘remotes’, ‘rstudioapi’, ‘sessioninfo’, ‘fontBitstreamVera’, ‘fontLiberation’, ‘httpuv’, ‘mime’, ‘xtable’, ‘sourcetools’, ‘later’, ‘promises’, ‘clipr’, ‘clisymbols’, ‘curl’, ‘desc’, ‘fs’, ‘gh’, ‘rprojroot’, ‘whisker’, ‘ks’, ‘devtools’, ‘diffobj’, ‘fontquiver’, ‘freetypeharfbuzz’, ‘gdtools’, ‘purrr’, ‘shiny’, ‘usethis’, ‘xml2’, ‘gtable’, ‘lazyeval’, ‘reshape2’, ‘tibble’, ‘plyr’, ‘microbenchmark’, ‘logcondens’, ‘vdiffr’, ‘ggplot2’\n",
      "\n"
     ]
    }
   ],
   "source": [
    "pif_df <- data.frame(cbind(pif_flat_0, pif_flat_1))\n",
    "pif_df$grade <- ann$rank\n",
    "use_package('ranger')\n",
    "use_package('pROC')"
   ]
  },
  {
   "cell_type": "code",
   "execution_count": 39,
   "metadata": {},
   "outputs": [
    {
     "name": "stdout",
     "output_type": "stream",
     "text": [
      "Ranger result\n",
      "\n",
      "Call:\n",
      " ranger(grade ~ ., data = pif_df, num.trees = 500, importance = \"impurity\",      probability = TRUE) \n",
      "\n",
      "Type:                             Probability estimation \n",
      "Number of trees:                  500 \n",
      "Sample size:                      165 \n",
      "Number of independent variables:  110 \n",
      "Mtry:                             10 \n",
      "Target node size:                 10 \n",
      "Variable importance mode:         impurity \n",
      "Splitrule:                        gini \n",
      "OOB prediction error (Brier s.):  0.1473168 \n"
     ]
    }
   ],
   "source": [
    "# Intitiate parallel environment\n",
    "no_cores <- detectCores()\n",
    "cl <- makeCluster(no_cores)\n",
    "registerDoParallel(cl)\n",
    "# Compute random forest model\n",
    "model <- ranger(grade ~ ., data = pif_df, num.trees=500, importance='impurity', probability=TRUE)\n",
    "stopCluster(cl)\n",
    "print(model)\n",
    "\n"
   ]
  }
 ],
 "metadata": {
  "kernelspec": {
   "display_name": "R",
   "language": "R",
   "name": "ir"
  },
  "language_info": {
   "codemirror_mode": "r",
   "file_extension": ".r",
   "mimetype": "text/x-r-source",
   "name": "R",
   "pygments_lexer": "r",
   "version": "3.6.0"
  }
 },
 "nbformat": 4,
 "nbformat_minor": 2
}
